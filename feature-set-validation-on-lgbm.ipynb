{
 "cells": [
  {
   "cell_type": "code",
   "execution_count": 1,
   "metadata": {
    "collapsed": false
   },
   "outputs": [],
   "source": [
    "import pandas as pd\n",
    "import numpy as np\n",
    "from sklearn.metrics import log_loss\n",
    "from sklearn.model_selection import StratifiedKFold"
   ]
  },
  {
   "cell_type": "code",
   "execution_count": 2,
   "metadata": {
    "collapsed": true
   },
   "outputs": [],
   "source": [
    "from mochi import runLGBM"
   ]
  },
  {
   "cell_type": "markdown",
   "metadata": {},
   "source": [
    "## Loading the dataset"
   ]
  },
  {
   "cell_type": "code",
   "execution_count": 3,
   "metadata": {
    "collapsed": false
   },
   "outputs": [],
   "source": [
    "data_path = '/data/kaggleData/2sigma/'\n",
    "train_df = pd.read_json(data_path+'processed_train.json')\n",
    "test_df = pd.read_json(data_path+'processed_test.json')\n",
    "feature_dict = pd.read_pickle(data_path+'feature_set_dict.pkl')"
   ]
  },
  {
   "cell_type": "code",
   "execution_count": 4,
   "metadata": {
    "collapsed": false
   },
   "outputs": [
    {
     "data": {
      "text/plain": [
       "['manager_performance',\n",
       " 'new_categoricals',\n",
       " 'price_and_room_related',\n",
       " 'cluseter_id',\n",
       " 'basic_numerical',\n",
       " 'created_time_derived',\n",
       " 'basic_categorical',\n",
       " 'spatial_sts',\n",
       " 'unstructured_derived_numerical',\n",
       " 'featured_derived',\n",
       " 'manager_and_house_sts']"
      ]
     },
     "execution_count": 4,
     "metadata": {},
     "output_type": "execute_result"
    }
   ],
   "source": [
    "feature_dict.keys()"
   ]
  },
  {
   "cell_type": "code",
   "execution_count": 5,
   "metadata": {
    "collapsed": false
   },
   "outputs": [],
   "source": [
    "target_num_map = {'high':0, 'medium':1, 'low':2}\n",
    "\n",
    "train_y = np.array(train_df['interest_level'].apply(lambda x: target_num_map[x]))\n",
    "\n",
    "KF=StratifiedKFold(5,shuffle=True,random_state = 2333)\n",
    "\n",
    "cv_scores = []\n",
    "cv_result = []\n",
    "models = []"
   ]
  },
  {
   "cell_type": "markdown",
   "metadata": {},
   "source": [
    "## Raw Features (including ‘features’ mapped and counts for unstructured)"
   ]
  },
  {
   "cell_type": "code",
   "execution_count": 6,
   "metadata": {
    "collapsed": true
   },
   "outputs": [],
   "source": [
    "basic_feature_set = ['basic_numerical','created_time_derived',\n",
    "                     'basic_categorical','unstructured_derived_numerical','featured_derived']\n",
    "basic_features = []\n",
    "for key in basic_feature_set:\n",
    "    basic_features.extend(feature_dict[key])"
   ]
  },
  {
   "cell_type": "code",
   "execution_count": 7,
   "metadata": {
    "collapsed": false,
    "scrolled": true
   },
   "outputs": [
    {
     "name": "stdout",
     "output_type": "stream",
     "text": [
      "Train until valid scores didn't improve in 64 rounds.\n",
      "[100]\ttrain's multi_logloss: 0.555713\ttest's multi_logloss: 0.587134\n",
      "[200]\ttrain's multi_logloss: 0.516253\ttest's multi_logloss: 0.56759\n",
      "[300]\ttrain's multi_logloss: 0.489964\ttest's multi_logloss: 0.559788\n",
      "[400]\ttrain's multi_logloss: 0.469303\ttest's multi_logloss: 0.556091\n",
      "[500]\ttrain's multi_logloss: 0.451746\ttest's multi_logloss: 0.554299\n",
      "[600]\ttrain's multi_logloss: 0.436276\ttest's multi_logloss: 0.55356\n",
      "[700]\ttrain's multi_logloss: 0.421358\ttest's multi_logloss: 0.55321\n",
      "Early stopping, best iteration is:\n",
      "[686]\ttrain's multi_logloss: 0.423435\ttest's multi_logloss: 0.55299\n",
      "loss for the turn 1 is 0.548671599414\n",
      "Train until valid scores didn't improve in 64 rounds.\n",
      "[100]\ttrain's multi_logloss: 0.558507\ttest's multi_logloss: 0.576962\n",
      "[200]\ttrain's multi_logloss: 0.517453\ttest's multi_logloss: 0.554888\n",
      "[300]\ttrain's multi_logloss: 0.491879\ttest's multi_logloss: 0.546408\n",
      "[400]\ttrain's multi_logloss: 0.471588\ttest's multi_logloss: 0.541988\n",
      "[500]\ttrain's multi_logloss: 0.453838\ttest's multi_logloss: 0.539068\n",
      "[600]\ttrain's multi_logloss: 0.437778\ttest's multi_logloss: 0.537932\n",
      "[700]\ttrain's multi_logloss: 0.423192\ttest's multi_logloss: 0.536898\n",
      "Early stopping, best iteration is:\n",
      "[716]\ttrain's multi_logloss: 0.420979\ttest's multi_logloss: 0.536765\n",
      "loss for the turn 2 is 0.534315952834\n",
      "Train until valid scores didn't improve in 64 rounds.\n",
      "[100]\ttrain's multi_logloss: 0.556387\ttest's multi_logloss: 0.583171\n",
      "[200]\ttrain's multi_logloss: 0.515601\ttest's multi_logloss: 0.561825\n",
      "[300]\ttrain's multi_logloss: 0.490458\ttest's multi_logloss: 0.553686\n",
      "[400]\ttrain's multi_logloss: 0.469634\ttest's multi_logloss: 0.549084\n",
      "[500]\ttrain's multi_logloss: 0.45143\ttest's multi_logloss: 0.546626\n",
      "[600]\ttrain's multi_logloss: 0.435033\ttest's multi_logloss: 0.544549\n",
      "[700]\ttrain's multi_logloss: 0.421201\ttest's multi_logloss: 0.544254\n",
      "[800]\ttrain's multi_logloss: 0.408237\ttest's multi_logloss: 0.543987\n",
      "Early stopping, best iteration is:\n",
      "[758]\ttrain's multi_logloss: 0.413581\ttest's multi_logloss: 0.543864\n",
      "loss for the turn 3 is 0.540957097019\n",
      "Train until valid scores didn't improve in 64 rounds.\n",
      "[100]\ttrain's multi_logloss: 0.557637\ttest's multi_logloss: 0.578845\n",
      "[200]\ttrain's multi_logloss: 0.516975\ttest's multi_logloss: 0.559078\n",
      "[300]\ttrain's multi_logloss: 0.490534\ttest's multi_logloss: 0.550551\n",
      "[400]\ttrain's multi_logloss: 0.469332\ttest's multi_logloss: 0.546817\n",
      "[500]\ttrain's multi_logloss: 0.451226\ttest's multi_logloss: 0.545039\n",
      "[600]\ttrain's multi_logloss: 0.435263\ttest's multi_logloss: 0.543917\n",
      "[700]\ttrain's multi_logloss: 0.420833\ttest's multi_logloss: 0.543228\n",
      "[800]\ttrain's multi_logloss: 0.407028\ttest's multi_logloss: 0.542964\n",
      "Early stopping, best iteration is:\n",
      "[771]\ttrain's multi_logloss: 0.41073\ttest's multi_logloss: 0.542794\n",
      "loss for the turn 4 is 0.541569510399\n",
      "Train until valid scores didn't improve in 64 rounds.\n",
      "[100]\ttrain's multi_logloss: 0.558689\ttest's multi_logloss: 0.575192\n",
      "[200]\ttrain's multi_logloss: 0.518346\ttest's multi_logloss: 0.552329\n",
      "[300]\ttrain's multi_logloss: 0.492219\ttest's multi_logloss: 0.543002\n",
      "[400]\ttrain's multi_logloss: 0.471504\ttest's multi_logloss: 0.538644\n",
      "[500]\ttrain's multi_logloss: 0.453977\ttest's multi_logloss: 0.536111\n",
      "[600]\ttrain's multi_logloss: 0.437304\ttest's multi_logloss: 0.534534\n",
      "[700]\ttrain's multi_logloss: 0.422669\ttest's multi_logloss: 0.533759\n",
      "[800]\ttrain's multi_logloss: 0.409633\ttest's multi_logloss: 0.533657\n",
      "Early stopping, best iteration is:\n",
      "[742]\ttrain's multi_logloss: 0.417013\ttest's multi_logloss: 0.533487\n",
      "loss for the turn 5 is 0.531952412912\n",
      "the mean loss for the validation is 0.539493314516\n"
     ]
    }
   ],
   "source": [
    "i=0\n",
    "cv_scores = []\n",
    "cv_result = []\n",
    "\n",
    "for dev_index, val_index in KF.split(train_df,train_y): \n",
    "    result_dict = {}\n",
    "    \n",
    "    dev_set, val_set = train_df.iloc[dev_index,:] , train_df.iloc[val_index,:] \n",
    "    \n",
    "    dev_X, val_X = dev_set[basic_features].as_matrix(), val_set[basic_features].as_matrix()\n",
    "    dev_y, val_y = train_y[dev_index], train_y[val_index]\n",
    "    \n",
    "    preds,model = runLGBM(dev_X, dev_y, val_X, val_y,feature_names=basic_features,\n",
    "           early_stop = 64,num_rounds=4500,eta = 0.1,max_depth=4,\n",
    "                          watch_dict = result_dict,verbose=100)\n",
    "\n",
    "    loss = log_loss(val_y, preds)\n",
    "    \n",
    "    cv_scores.append(loss)\n",
    "    cv_result.append(result_dict)\n",
    "    models.append(model)\n",
    "    i+=1\n",
    "    print 'loss for the turn '+str(i)+' is '+str(loss)\n",
    "\n",
    "print 'the mean loss for the validation is '+str(np.mean(cv_scores))"
   ]
  },
  {
   "cell_type": "markdown",
   "metadata": {},
   "source": [
    "## Adding price related constructed features"
   ]
  },
  {
   "cell_type": "code",
   "execution_count": 11,
   "metadata": {
    "collapsed": true
   },
   "outputs": [],
   "source": [
    "adding_price_set = list(basic_feature_set)\n",
    "adding_price_set.append('price_and_room_related')\n",
    "\n",
    "adding_price_features = []\n",
    "for key in adding_price_set:\n",
    "    adding_price_features.extend(feature_dict[key])"
   ]
  },
  {
   "cell_type": "code",
   "execution_count": 14,
   "metadata": {
    "collapsed": false,
    "scrolled": true
   },
   "outputs": [
    {
     "name": "stdout",
     "output_type": "stream",
     "text": [
      "Train until valid scores didn't improve in 64 rounds.\n",
      "[100]\ttrain's multi_logloss: 0.545819\ttest's multi_logloss: 0.579317\n",
      "[200]\ttrain's multi_logloss: 0.508009\ttest's multi_logloss: 0.563076\n",
      "[300]\ttrain's multi_logloss: 0.482651\ttest's multi_logloss: 0.556591\n",
      "[400]\ttrain's multi_logloss: 0.463186\ttest's multi_logloss: 0.553315\n",
      "[500]\ttrain's multi_logloss: 0.445305\ttest's multi_logloss: 0.551408\n",
      "Early stopping, best iteration is:\n",
      "[521]\ttrain's multi_logloss: 0.441695\ttest's multi_logloss: 0.551262\n",
      "loss for the turn 1 is 0.547390404406\n",
      "Train until valid scores didn't improve in 64 rounds.\n",
      "[100]\ttrain's multi_logloss: 0.547808\ttest's multi_logloss: 0.569074\n",
      "[200]\ttrain's multi_logloss: 0.510387\ttest's multi_logloss: 0.550622\n",
      "[300]\ttrain's multi_logloss: 0.485281\ttest's multi_logloss: 0.542517\n",
      "[400]\ttrain's multi_logloss: 0.465629\ttest's multi_logloss: 0.538584\n",
      "[500]\ttrain's multi_logloss: 0.447593\ttest's multi_logloss: 0.535792\n",
      "[600]\ttrain's multi_logloss: 0.432283\ttest's multi_logloss: 0.534409\n",
      "[700]\ttrain's multi_logloss: 0.417704\ttest's multi_logloss: 0.533399\n",
      "Early stopping, best iteration is:\n",
      "[724]\ttrain's multi_logloss: 0.414276\ttest's multi_logloss: 0.532993\n",
      "loss for the turn 2 is 0.530656531278\n",
      "Train until valid scores didn't improve in 64 rounds.\n",
      "[100]\ttrain's multi_logloss: 0.545954\ttest's multi_logloss: 0.574749\n",
      "[200]\ttrain's multi_logloss: 0.507652\ttest's multi_logloss: 0.556694\n",
      "[300]\ttrain's multi_logloss: 0.483498\ttest's multi_logloss: 0.549476\n",
      "[400]\ttrain's multi_logloss: 0.464091\ttest's multi_logloss: 0.546057\n",
      "[500]\ttrain's multi_logloss: 0.447004\ttest's multi_logloss: 0.543524\n",
      "[600]\ttrain's multi_logloss: 0.431227\ttest's multi_logloss: 0.541699\n",
      "[700]\ttrain's multi_logloss: 0.416357\ttest's multi_logloss: 0.541261\n",
      "[800]\ttrain's multi_logloss: 0.402904\ttest's multi_logloss: 0.540991\n",
      "Early stopping, best iteration is:\n",
      "[788]\ttrain's multi_logloss: 0.404541\ttest's multi_logloss: 0.540896\n",
      "loss for the turn 3 is 0.538831096727\n",
      "Train until valid scores didn't improve in 64 rounds.\n",
      "[100]\ttrain's multi_logloss: 0.54796\ttest's multi_logloss: 0.571008\n",
      "[200]\ttrain's multi_logloss: 0.508653\ttest's multi_logloss: 0.553698\n",
      "[300]\ttrain's multi_logloss: 0.483188\ttest's multi_logloss: 0.547552\n",
      "[400]\ttrain's multi_logloss: 0.462459\ttest's multi_logloss: 0.544323\n",
      "[500]\ttrain's multi_logloss: 0.445352\ttest's multi_logloss: 0.542937\n",
      "[600]\ttrain's multi_logloss: 0.429393\ttest's multi_logloss: 0.541873\n",
      "[700]\ttrain's multi_logloss: 0.414105\ttest's multi_logloss: 0.541109\n",
      "Early stopping, best iteration is:\n",
      "[703]\ttrain's multi_logloss: 0.413674\ttest's multi_logloss: 0.541093\n",
      "loss for the turn 4 is 0.539835563391\n",
      "Train until valid scores didn't improve in 64 rounds.\n",
      "[100]\ttrain's multi_logloss: 0.54845\ttest's multi_logloss: 0.568523\n",
      "[200]\ttrain's multi_logloss: 0.510375\ttest's multi_logloss: 0.549018\n",
      "[300]\ttrain's multi_logloss: 0.484986\ttest's multi_logloss: 0.540759\n",
      "[400]\ttrain's multi_logloss: 0.46509\ttest's multi_logloss: 0.536854\n",
      "[500]\ttrain's multi_logloss: 0.448006\ttest's multi_logloss: 0.534196\n",
      "[600]\ttrain's multi_logloss: 0.431864\ttest's multi_logloss: 0.53265\n",
      "[700]\ttrain's multi_logloss: 0.416995\ttest's multi_logloss: 0.531227\n",
      "Early stopping, best iteration is:\n",
      "[722]\ttrain's multi_logloss: 0.413755\ttest's multi_logloss: 0.531133\n",
      "loss for the turn 5 is 0.529626085397\n",
      "the mean loss for the validation is 0.53726793624\n"
     ]
    }
   ],
   "source": [
    "i=0\n",
    "cv_scores = []\n",
    "cv_result = []\n",
    "\n",
    "for dev_index, val_index in KF.split(train_df,train_y): \n",
    "    result_dict = {}\n",
    "    \n",
    "    dev_set, val_set = train_df.iloc[dev_index,:] , train_df.iloc[val_index,:] \n",
    "    \n",
    "    dev_X, val_X = dev_set[adding_price_features].as_matrix(), val_set[adding_price_features].as_matrix()\n",
    "    dev_y, val_y = train_y[dev_index], train_y[val_index]\n",
    "    \n",
    "    preds,model = runLGBM(dev_X, dev_y, val_X, val_y,feature_names=adding_price_features,\n",
    "           early_stop = 64,num_rounds=4500,eta = 0.1,max_depth=4,\n",
    "                          watch_dict = result_dict,verbose=100)\n",
    "\n",
    "    loss = log_loss(val_y, preds)\n",
    "    \n",
    "    cv_scores.append(loss)\n",
    "    cv_result.append(result_dict)\n",
    "    models.append(model)\n",
    "    i+=1\n",
    "    print 'loss for the turn '+str(i)+' is '+str(loss)\n",
    "\n",
    "print 'the mean loss for the validation is '+str(np.mean(cv_scores))"
   ]
  },
  {
   "cell_type": "markdown",
   "metadata": {},
   "source": [
    "## Adding house type features"
   ]
  },
  {
   "cell_type": "code",
   "execution_count": 15,
   "metadata": {
    "collapsed": true
   },
   "outputs": [],
   "source": [
    "adding_house_set = list(adding_price_set)\n",
    "adding_house_set.append('new_categoricals')\n",
    "\n",
    "adding_house_features = []\n",
    "for key in adding_house_set:\n",
    "    adding_house_features.extend(feature_dict[key])"
   ]
  },
  {
   "cell_type": "code",
   "execution_count": 16,
   "metadata": {
    "collapsed": false,
    "scrolled": true
   },
   "outputs": [
    {
     "name": "stdout",
     "output_type": "stream",
     "text": [
      "Train until valid scores didn't improve in 64 rounds.\n",
      "[100]\ttrain's multi_logloss: 0.544778\ttest's multi_logloss: 0.578503\n",
      "[200]\ttrain's multi_logloss: 0.506399\ttest's multi_logloss: 0.561325\n",
      "[300]\ttrain's multi_logloss: 0.481593\ttest's multi_logloss: 0.55615\n",
      "[400]\ttrain's multi_logloss: 0.461233\ttest's multi_logloss: 0.553128\n",
      "[500]\ttrain's multi_logloss: 0.444054\ttest's multi_logloss: 0.551916\n",
      "[600]\ttrain's multi_logloss: 0.428112\ttest's multi_logloss: 0.551351\n",
      "[700]\ttrain's multi_logloss: 0.414177\ttest's multi_logloss: 0.551142\n",
      "Early stopping, best iteration is:\n",
      "[690]\ttrain's multi_logloss: 0.41547\ttest's multi_logloss: 0.551041\n",
      "loss for the turn 1 is 0.546892167444\n",
      "Train until valid scores didn't improve in 64 rounds.\n",
      "[100]\ttrain's multi_logloss: 0.547694\ttest's multi_logloss: 0.569577\n",
      "[200]\ttrain's multi_logloss: 0.508428\ttest's multi_logloss: 0.549079\n",
      "[300]\ttrain's multi_logloss: 0.483756\ttest's multi_logloss: 0.541801\n",
      "[400]\ttrain's multi_logloss: 0.464103\ttest's multi_logloss: 0.537509\n",
      "[500]\ttrain's multi_logloss: 0.445808\ttest's multi_logloss: 0.534707\n",
      "[600]\ttrain's multi_logloss: 0.42986\ttest's multi_logloss: 0.532408\n",
      "[700]\ttrain's multi_logloss: 0.414817\ttest's multi_logloss: 0.531628\n",
      "[800]\ttrain's multi_logloss: 0.401275\ttest's multi_logloss: 0.531199\n",
      "Early stopping, best iteration is:\n",
      "[753]\ttrain's multi_logloss: 0.407564\ttest's multi_logloss: 0.530993\n",
      "loss for the turn 2 is 0.529547171563\n",
      "Train until valid scores didn't improve in 64 rounds.\n",
      "[100]\ttrain's multi_logloss: 0.546365\ttest's multi_logloss: 0.575837\n",
      "[200]\ttrain's multi_logloss: 0.507426\ttest's multi_logloss: 0.557732\n",
      "[300]\ttrain's multi_logloss: 0.482643\ttest's multi_logloss: 0.550209\n",
      "[400]\ttrain's multi_logloss: 0.463216\ttest's multi_logloss: 0.545909\n",
      "[500]\ttrain's multi_logloss: 0.445309\ttest's multi_logloss: 0.543204\n",
      "[600]\ttrain's multi_logloss: 0.429591\ttest's multi_logloss: 0.541877\n",
      "[700]\ttrain's multi_logloss: 0.415592\ttest's multi_logloss: 0.541504\n",
      "Early stopping, best iteration is:\n",
      "[709]\ttrain's multi_logloss: 0.41422\ttest's multi_logloss: 0.541318\n",
      "loss for the turn 3 is 0.539372549613\n",
      "Train until valid scores didn't improve in 64 rounds.\n",
      "[100]\ttrain's multi_logloss: 0.547598\ttest's multi_logloss: 0.572164\n",
      "[200]\ttrain's multi_logloss: 0.506837\ttest's multi_logloss: 0.554458\n",
      "[300]\ttrain's multi_logloss: 0.481751\ttest's multi_logloss: 0.548193\n",
      "[400]\ttrain's multi_logloss: 0.460946\ttest's multi_logloss: 0.544468\n",
      "[500]\ttrain's multi_logloss: 0.442742\ttest's multi_logloss: 0.542558\n",
      "[600]\ttrain's multi_logloss: 0.426721\ttest's multi_logloss: 0.54238\n",
      "[700]\ttrain's multi_logloss: 0.412089\ttest's multi_logloss: 0.541469\n",
      "Early stopping, best iteration is:\n",
      "[724]\ttrain's multi_logloss: 0.408612\ttest's multi_logloss: 0.541187\n",
      "loss for the turn 4 is 0.540201464478\n",
      "Train until valid scores didn't improve in 64 rounds.\n",
      "[100]\ttrain's multi_logloss: 0.548836\ttest's multi_logloss: 0.568974\n",
      "[200]\ttrain's multi_logloss: 0.509626\ttest's multi_logloss: 0.548905\n",
      "[300]\ttrain's multi_logloss: 0.48409\ttest's multi_logloss: 0.540785\n",
      "[400]\ttrain's multi_logloss: 0.463816\ttest's multi_logloss: 0.537285\n",
      "[500]\ttrain's multi_logloss: 0.44672\ttest's multi_logloss: 0.535193\n",
      "[600]\ttrain's multi_logloss: 0.430292\ttest's multi_logloss: 0.534492\n",
      "[700]\ttrain's multi_logloss: 0.41479\ttest's multi_logloss: 0.533673\n",
      "Early stopping, best iteration is:\n",
      "[717]\ttrain's multi_logloss: 0.412173\ttest's multi_logloss: 0.533527\n",
      "loss for the turn 5 is 0.53167455026\n",
      "the mean loss for the validation is 0.537537580672\n"
     ]
    }
   ],
   "source": [
    "i=0\n",
    "cv_scores = []\n",
    "cv_result = []\n",
    "\n",
    "for dev_index, val_index in KF.split(train_df,train_y): \n",
    "    result_dict = {}\n",
    "    \n",
    "    dev_set, val_set = train_df.iloc[dev_index,:] , train_df.iloc[val_index,:] \n",
    "    \n",
    "    dev_X, val_X = dev_set[adding_house_features].as_matrix(), val_set[adding_house_features].as_matrix()\n",
    "    dev_y, val_y = train_y[dev_index], train_y[val_index]\n",
    "    \n",
    "    preds,model = runLGBM(dev_X, dev_y, val_X, val_y,feature_names=adding_house_features,\n",
    "           early_stop = 64,num_rounds=4500,eta = 0.1,max_depth=4,\n",
    "                          watch_dict = result_dict,verbose=100)\n",
    "\n",
    "    loss = log_loss(val_y, preds)\n",
    "    \n",
    "    cv_scores.append(loss)\n",
    "    cv_result.append(result_dict)\n",
    "    models.append(model)\n",
    "    i+=1\n",
    "    print 'loss for the turn '+str(i)+' is '+str(loss)\n",
    "\n",
    "print 'the mean loss for the validation is '+str(np.mean(cv_scores))"
   ]
  },
  {
   "cell_type": "markdown",
   "metadata": {},
   "source": [
    "## Adding manager performance related features"
   ]
  },
  {
   "cell_type": "code",
   "execution_count": 17,
   "metadata": {
    "collapsed": true
   },
   "outputs": [],
   "source": [
    "adding_manager_set = list(adding_house_set)\n",
    "adding_manager_set.append('manager_performance')\n",
    "\n",
    "adding_manager_features = []\n",
    "for key in adding_manager_set:\n",
    "    adding_manager_features.extend(feature_dict[key])"
   ]
  },
  {
   "cell_type": "code",
   "execution_count": 19,
   "metadata": {
    "collapsed": false
   },
   "outputs": [
    {
     "name": "stdout",
     "output_type": "stream",
     "text": [
      "Train until valid scores didn't improve in 64 rounds.\n",
      "[100]\ttrain's multi_logloss: 0.517643\ttest's multi_logloss: 0.554626\n",
      "[200]\ttrain's multi_logloss: 0.479484\ttest's multi_logloss: 0.539618\n",
      "[300]\ttrain's multi_logloss: 0.454555\ttest's multi_logloss: 0.534346\n",
      "[400]\ttrain's multi_logloss: 0.43339\ttest's multi_logloss: 0.532769\n",
      "[500]\ttrain's multi_logloss: 0.41515\ttest's multi_logloss: 0.531557\n",
      "[600]\ttrain's multi_logloss: 0.398862\ttest's multi_logloss: 0.531195\n",
      "Early stopping, best iteration is:\n",
      "[568]\ttrain's multi_logloss: 0.403846\ttest's multi_logloss: 0.530926\n",
      "loss for the turn 1 is 0.527073671449\n",
      "Train until valid scores didn't improve in 64 rounds.\n",
      "[100]\ttrain's multi_logloss: 0.519886\ttest's multi_logloss: 0.54516\n",
      "[200]\ttrain's multi_logloss: 0.481293\ttest's multi_logloss: 0.528257\n",
      "[300]\ttrain's multi_logloss: 0.456097\ttest's multi_logloss: 0.522805\n",
      "[400]\ttrain's multi_logloss: 0.435068\ttest's multi_logloss: 0.520191\n",
      "[500]\ttrain's multi_logloss: 0.4162\ttest's multi_logloss: 0.51884\n",
      "Early stopping, best iteration is:\n",
      "[472]\ttrain's multi_logloss: 0.421407\ttest's multi_logloss: 0.518674\n",
      "loss for the turn 2 is 0.515978030057\n",
      "Train until valid scores didn't improve in 64 rounds.\n",
      "[100]\ttrain's multi_logloss: 0.519181\ttest's multi_logloss: 0.549965\n",
      "[200]\ttrain's multi_logloss: 0.480385\ttest's multi_logloss: 0.53444\n",
      "[300]\ttrain's multi_logloss: 0.454955\ttest's multi_logloss: 0.528572\n",
      "[400]\ttrain's multi_logloss: 0.434567\ttest's multi_logloss: 0.526256\n",
      "[500]\ttrain's multi_logloss: 0.416467\ttest's multi_logloss: 0.525263\n",
      "Early stopping, best iteration is:\n",
      "[513]\ttrain's multi_logloss: 0.414205\ttest's multi_logloss: 0.52512\n",
      "loss for the turn 3 is 0.522548483845\n",
      "Train until valid scores didn't improve in 64 rounds.\n",
      "[100]\ttrain's multi_logloss: 0.518656\ttest's multi_logloss: 0.548152\n",
      "[200]\ttrain's multi_logloss: 0.479915\ttest's multi_logloss: 0.533693\n",
      "[300]\ttrain's multi_logloss: 0.454112\ttest's multi_logloss: 0.528719\n",
      "[400]\ttrain's multi_logloss: 0.433023\ttest's multi_logloss: 0.527281\n",
      "[500]\ttrain's multi_logloss: 0.414159\ttest's multi_logloss: 0.526928\n",
      "Early stopping, best iteration is:\n",
      "[455]\ttrain's multi_logloss: 0.421971\ttest's multi_logloss: 0.526667\n",
      "loss for the turn 4 is 0.525252432068\n",
      "Train until valid scores didn't improve in 64 rounds.\n",
      "[100]\ttrain's multi_logloss: 0.520035\ttest's multi_logloss: 0.543776\n",
      "[200]\ttrain's multi_logloss: 0.48192\ttest's multi_logloss: 0.527816\n",
      "[300]\ttrain's multi_logloss: 0.456348\ttest's multi_logloss: 0.52219\n",
      "[400]\ttrain's multi_logloss: 0.435992\ttest's multi_logloss: 0.520053\n",
      "[500]\ttrain's multi_logloss: 0.416779\ttest's multi_logloss: 0.518827\n",
      "Early stopping, best iteration is:\n",
      "[533]\ttrain's multi_logloss: 0.410663\ttest's multi_logloss: 0.518466\n",
      "loss for the turn 5 is 0.516248687812\n",
      "the mean loss for the validation is 0.521420261046\n"
     ]
    }
   ],
   "source": [
    "i=0\n",
    "cv_scores = []\n",
    "cv_result = []\n",
    "\n",
    "for dev_index, val_index in KF.split(train_df,train_y): \n",
    "    result_dict = {}\n",
    "    \n",
    "    dev_set, val_set = train_df.iloc[dev_index,:] , train_df.iloc[val_index,:] \n",
    "    \n",
    "    dev_X, val_X = dev_set[adding_manager_features].as_matrix(), val_set[adding_manager_features].as_matrix()\n",
    "    dev_y, val_y = train_y[dev_index], train_y[val_index]\n",
    "    \n",
    "    preds,model = runLGBM(dev_X, dev_y, val_X, val_y,feature_names=adding_manager_features,\n",
    "           early_stop = 64,num_rounds=4500,eta = 0.1,max_depth=4,\n",
    "                          watch_dict = result_dict,verbose=100)\n",
    "\n",
    "    loss = log_loss(val_y, preds)\n",
    "    \n",
    "    cv_scores.append(loss)\n",
    "    cv_result.append(result_dict)\n",
    "    models.append(model)\n",
    "    i+=1\n",
    "    print 'loss for the turn '+str(i)+' is '+str(loss)\n",
    "\n",
    "print 'the mean loss for the validation is '+str(np.mean(cv_scores))"
   ]
  },
  {
   "cell_type": "markdown",
   "metadata": {},
   "source": [
    "## Adding spatial clustering features"
   ]
  },
  {
   "cell_type": "code",
   "execution_count": 20,
   "metadata": {
    "collapsed": true
   },
   "outputs": [],
   "source": [
    "adding_spatial_set = list(adding_manager_set)\n",
    "adding_spatial_set.append('cluseter_id')\n",
    "\n",
    "adding_spatial_features = []\n",
    "for key in adding_spatial_set:\n",
    "    adding_spatial_features.extend(feature_dict[key])"
   ]
  },
  {
   "cell_type": "code",
   "execution_count": 21,
   "metadata": {
    "collapsed": false
   },
   "outputs": [
    {
     "name": "stdout",
     "output_type": "stream",
     "text": [
      "Train until valid scores didn't improve in 64 rounds.\n",
      "[100]\ttrain's multi_logloss: 0.516621\ttest's multi_logloss: 0.554834\n",
      "[200]\ttrain's multi_logloss: 0.478595\ttest's multi_logloss: 0.539672\n",
      "[300]\ttrain's multi_logloss: 0.453448\ttest's multi_logloss: 0.535209\n",
      "[400]\ttrain's multi_logloss: 0.43214\ttest's multi_logloss: 0.532748\n",
      "[500]\ttrain's multi_logloss: 0.41381\ttest's multi_logloss: 0.532801\n",
      "Early stopping, best iteration is:\n",
      "[480]\ttrain's multi_logloss: 0.417503\ttest's multi_logloss: 0.532477\n",
      "loss for the turn 1 is 0.527889795876\n",
      "Train until valid scores didn't improve in 64 rounds.\n",
      "[100]\ttrain's multi_logloss: 0.518996\ttest's multi_logloss: 0.54513\n",
      "[200]\ttrain's multi_logloss: 0.480224\ttest's multi_logloss: 0.528381\n",
      "[300]\ttrain's multi_logloss: 0.454318\ttest's multi_logloss: 0.52286\n",
      "[400]\ttrain's multi_logloss: 0.433385\ttest's multi_logloss: 0.52022\n",
      "[500]\ttrain's multi_logloss: 0.414455\ttest's multi_logloss: 0.518984\n",
      "[600]\ttrain's multi_logloss: 0.397886\ttest's multi_logloss: 0.518573\n",
      "[700]\ttrain's multi_logloss: 0.382232\ttest's multi_logloss: 0.518013\n",
      "Early stopping, best iteration is:\n",
      "[675]\ttrain's multi_logloss: 0.386063\ttest's multi_logloss: 0.517855\n",
      "loss for the turn 2 is 0.515194725595\n",
      "Train until valid scores didn't improve in 64 rounds.\n",
      "[100]\ttrain's multi_logloss: 0.518392\ttest's multi_logloss: 0.54978\n",
      "[200]\ttrain's multi_logloss: 0.479548\ttest's multi_logloss: 0.534159\n",
      "[300]\ttrain's multi_logloss: 0.454676\ttest's multi_logloss: 0.528733\n",
      "[400]\ttrain's multi_logloss: 0.433734\ttest's multi_logloss: 0.526868\n",
      "[500]\ttrain's multi_logloss: 0.415183\ttest's multi_logloss: 0.526269\n",
      "Early stopping, best iteration is:\n",
      "[475]\ttrain's multi_logloss: 0.419416\ttest's multi_logloss: 0.526039\n",
      "loss for the turn 3 is 0.523152810873\n",
      "Train until valid scores didn't improve in 64 rounds.\n",
      "[100]\ttrain's multi_logloss: 0.518966\ttest's multi_logloss: 0.54743\n",
      "[200]\ttrain's multi_logloss: 0.4804\ttest's multi_logloss: 0.533002\n",
      "[300]\ttrain's multi_logloss: 0.453998\ttest's multi_logloss: 0.527509\n",
      "[400]\ttrain's multi_logloss: 0.432674\ttest's multi_logloss: 0.52555\n",
      "[500]\ttrain's multi_logloss: 0.413085\ttest's multi_logloss: 0.525009\n",
      "Early stopping, best iteration is:\n",
      "[464]\ttrain's multi_logloss: 0.420168\ttest's multi_logloss: 0.524749\n",
      "loss for the turn 4 is 0.52307276361\n",
      "Train until valid scores didn't improve in 64 rounds.\n",
      "[100]\ttrain's multi_logloss: 0.519686\ttest's multi_logloss: 0.543569\n",
      "[200]\ttrain's multi_logloss: 0.480768\ttest's multi_logloss: 0.526232\n",
      "[300]\ttrain's multi_logloss: 0.455747\ttest's multi_logloss: 0.521249\n",
      "[400]\ttrain's multi_logloss: 0.435386\ttest's multi_logloss: 0.51938\n",
      "[500]\ttrain's multi_logloss: 0.416191\ttest's multi_logloss: 0.518862\n",
      "[600]\ttrain's multi_logloss: 0.398661\ttest's multi_logloss: 0.518903\n",
      "Early stopping, best iteration is:\n",
      "[547]\ttrain's multi_logloss: 0.407201\ttest's multi_logloss: 0.518648\n",
      "loss for the turn 5 is 0.516645748141\n",
      "the mean loss for the validation is 0.521191168819\n"
     ]
    }
   ],
   "source": [
    "i=0\n",
    "cv_scores = []\n",
    "cv_result = []\n",
    "\n",
    "for dev_index, val_index in KF.split(train_df,train_y): \n",
    "    result_dict = {}\n",
    "    \n",
    "    dev_set, val_set = train_df.iloc[dev_index,:] , train_df.iloc[val_index,:] \n",
    "    \n",
    "    dev_X, val_X = dev_set[adding_spatial_features].as_matrix(), val_set[adding_spatial_features].as_matrix()\n",
    "    dev_y, val_y = train_y[dev_index], train_y[val_index]\n",
    "    \n",
    "    preds,model = runLGBM(dev_X, dev_y, val_X, val_y,feature_names=adding_spatial_features,\n",
    "           early_stop = 64,num_rounds=4500,eta = 0.1,max_depth=4,\n",
    "                          watch_dict = result_dict,verbose=100)\n",
    "\n",
    "    loss = log_loss(val_y, preds)\n",
    "    \n",
    "    cv_scores.append(loss)\n",
    "    cv_result.append(result_dict)\n",
    "    models.append(model)\n",
    "    i+=1\n",
    "    print 'loss for the turn '+str(i)+' is '+str(loss)\n",
    "\n",
    "print 'the mean loss for the validation is '+str(np.mean(cv_scores))"
   ]
  },
  {
   "cell_type": "markdown",
   "metadata": {},
   "source": [
    "## Adding some statistical Features"
   ]
  },
  {
   "cell_type": "code",
   "execution_count": 22,
   "metadata": {
    "collapsed": true
   },
   "outputs": [],
   "source": [
    "adding_statistical_set = list(adding_spatial_set)\n",
    "adding_statistical_set.append('spatial_sts')\n",
    "adding_statistical_set.append('manager_and_house_sts')\n",
    "\n",
    "adding_statistical_features = []\n",
    "for key in adding_statistical_set:\n",
    "    adding_statistical_features.extend(feature_dict[key])\n"
   ]
  },
  {
   "cell_type": "code",
   "execution_count": 23,
   "metadata": {
    "collapsed": false
   },
   "outputs": [
    {
     "name": "stdout",
     "output_type": "stream",
     "text": [
      "Train until valid scores didn't improve in 64 rounds.\n",
      "[100]\ttrain's multi_logloss: 0.507995\ttest's multi_logloss: 0.547484\n",
      "[200]\ttrain's multi_logloss: 0.466921\ttest's multi_logloss: 0.531704\n",
      "[300]\ttrain's multi_logloss: 0.439782\ttest's multi_logloss: 0.526495\n",
      "[400]\ttrain's multi_logloss: 0.417351\ttest's multi_logloss: 0.525621\n",
      "[500]\ttrain's multi_logloss: 0.397054\ttest's multi_logloss: 0.525091\n",
      "Early stopping, best iteration is:\n",
      "[497]\ttrain's multi_logloss: 0.397693\ttest's multi_logloss: 0.525087\n",
      "loss for the turn 1 is 0.523948000718\n",
      "Train until valid scores didn't improve in 64 rounds.\n",
      "[100]\ttrain's multi_logloss: 0.510864\ttest's multi_logloss: 0.539602\n",
      "[200]\ttrain's multi_logloss: 0.469369\ttest's multi_logloss: 0.522225\n",
      "[300]\ttrain's multi_logloss: 0.441\ttest's multi_logloss: 0.51619\n",
      "[400]\ttrain's multi_logloss: 0.418442\ttest's multi_logloss: 0.513982\n",
      "[500]\ttrain's multi_logloss: 0.398159\ttest's multi_logloss: 0.513015\n",
      "Early stopping, best iteration is:\n",
      "[524]\ttrain's multi_logloss: 0.393934\ttest's multi_logloss: 0.512822\n",
      "loss for the turn 2 is 0.512904495785\n",
      "Train until valid scores didn't improve in 64 rounds.\n",
      "[100]\ttrain's multi_logloss: 0.509628\ttest's multi_logloss: 0.543527\n",
      "[200]\ttrain's multi_logloss: 0.46742\ttest's multi_logloss: 0.526661\n",
      "[300]\ttrain's multi_logloss: 0.439346\ttest's multi_logloss: 0.520513\n",
      "[400]\ttrain's multi_logloss: 0.41691\ttest's multi_logloss: 0.518718\n",
      "[500]\ttrain's multi_logloss: 0.396953\ttest's multi_logloss: 0.517849\n",
      "Early stopping, best iteration is:\n",
      "[487]\ttrain's multi_logloss: 0.399337\ttest's multi_logloss: 0.51761\n",
      "loss for the turn 3 is 0.5170831595\n",
      "Train until valid scores didn't improve in 64 rounds.\n",
      "[100]\ttrain's multi_logloss: 0.509682\ttest's multi_logloss: 0.541916\n",
      "[200]\ttrain's multi_logloss: 0.467815\ttest's multi_logloss: 0.52732\n",
      "[300]\ttrain's multi_logloss: 0.440336\ttest's multi_logloss: 0.523409\n",
      "[400]\ttrain's multi_logloss: 0.417159\ttest's multi_logloss: 0.521962\n",
      "[500]\ttrain's multi_logloss: 0.397107\ttest's multi_logloss: 0.521832\n",
      "Early stopping, best iteration is:\n",
      "[478]\ttrain's multi_logloss: 0.401174\ttest's multi_logloss: 0.521391\n",
      "loss for the turn 4 is 0.521277545136\n",
      "Train until valid scores didn't improve in 64 rounds.\n",
      "[100]\ttrain's multi_logloss: 0.511524\ttest's multi_logloss: 0.537757\n",
      "[200]\ttrain's multi_logloss: 0.47077\ttest's multi_logloss: 0.520102\n",
      "[300]\ttrain's multi_logloss: 0.443428\ttest's multi_logloss: 0.513815\n",
      "[400]\ttrain's multi_logloss: 0.42025\ttest's multi_logloss: 0.511108\n",
      "[500]\ttrain's multi_logloss: 0.40035\ttest's multi_logloss: 0.5103\n",
      "Early stopping, best iteration is:\n",
      "[485]\ttrain's multi_logloss: 0.403129\ttest's multi_logloss: 0.510179\n",
      "loss for the turn 5 is 0.510097895754\n",
      "the mean loss for the validation is 0.517062219379\n"
     ]
    }
   ],
   "source": [
    "i=0\n",
    "cv_scores = []\n",
    "cv_result = []\n",
    "    \n",
    "for dev_index, val_index in KF.split(train_df,train_y): \n",
    "    result_dict = {}\n",
    "    \n",
    "    dev_set, val_set = train_df.iloc[dev_index,:] , train_df.iloc[val_index,:] \n",
    "    \n",
    "    dev_X, val_X = dev_set[adding_statistical_features].as_matrix(), val_set[adding_statistical_features].as_matrix()\n",
    "    dev_y, val_y = train_y[dev_index], train_y[val_index]\n",
    "    \n",
    "    preds,model = runLGBM(dev_X, dev_y, val_X, val_y,feature_names=adding_statistical_features,\n",
    "           early_stop = 64,num_rounds=4500,eta = 0.1,max_depth=4,\n",
    "                          watch_dict = result_dict,verbose=100)\n",
    "\n",
    "    loss = log_loss(val_y, preds)\n",
    "    \n",
    "    cv_scores.append(loss)\n",
    "    cv_result.append(result_dict)\n",
    "    models.append(model)\n",
    "    i+=1\n",
    "    print 'loss for the turn '+str(i)+' is '+str(loss)\n",
    "\n",
    "print 'the mean loss for the validation is '+str(np.mean(cv_scores))"
   ]
  }
 ],
 "metadata": {
  "kernelspec": {
   "display_name": "Python 2",
   "language": "python",
   "name": "python2"
  },
  "language_info": {
   "codemirror_mode": {
    "name": "ipython",
    "version": 2
   },
   "file_extension": ".py",
   "mimetype": "text/x-python",
   "name": "python",
   "nbconvert_exporter": "python",
   "pygments_lexer": "ipython2",
   "version": "2.7.13"
  }
 },
 "nbformat": 4,
 "nbformat_minor": 2
}
